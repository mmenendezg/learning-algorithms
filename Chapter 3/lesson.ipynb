{
 "cells": [
  {
   "cell_type": "markdown",
   "metadata": {},
   "source": [
    "# Chapter 3: Better Living Through Better Hashing"
   ]
  },
  {
   "cell_type": "markdown",
   "metadata": {},
   "source": [
    "## Setup"
   ]
  },
  {
   "cell_type": "code",
   "execution_count": 1,
   "metadata": {},
   "outputs": [],
   "source": [
    "from datetime import date\n",
    "from typing import Any\n",
    "import calendar\n",
    "from matplotlib import pyplot as plt"
   ]
  },
  {
   "cell_type": "markdown",
   "metadata": {},
   "source": [
    "## Associating Values with Keys"
   ]
  },
  {
   "cell_type": "code",
   "execution_count": 2,
   "metadata": {},
   "outputs": [
    {
     "name": "stdout",
     "output_type": "stream",
     "text": [
      "Febrary has 28 days\n"
     ]
    }
   ],
   "source": [
    "month_length = [31, 28, 31, 30, 31, 30, 31, 31, 30, 31, 30, 31]\n",
    "months_array = [\n",
    "    \"January\",\n",
    "    \"February\",\n",
    "    \"March\",\n",
    "    \"April\",\n",
    "    \"May\",\n",
    "    \"June\",\n",
    "    \"July\",\n",
    "    \"August\",\n",
    "    \"September\",\n",
    "    \"October\",\n",
    "    \"November\",\n",
    "    \"December\",\n",
    "]\n",
    "idx = months_array.index(\"February\")\n",
    "print(f\"Febrary has {month_length[idx]} days\")"
   ]
  },
  {
   "cell_type": "code",
   "execution_count": 3,
   "metadata": {},
   "outputs": [],
   "source": [
    "# Code to print readable calendar for any month and year\n",
    "def print_month(month: str, year: int):\n",
    "    idx = months_array.index(month)\n",
    "    day = 1\n",
    "    wd = date(year, idx + 1, day).weekday()\n",
    "    wd = (wd + 1) % 7\n",
    "    end = month_length[idx]\n",
    "    if calendar.isleap(year) and idx == 1:\n",
    "        end += 1\n",
    "    print(f\"{month} {year}\".center(20))\n",
    "    print(\"Su Mo Tu We Th Fr Sa\")\n",
    "    print(\"   \" * wd, end=\"\")\n",
    "    while day <= end:\n",
    "        print(f\"{day:2d} \", end=\"\")\n",
    "        wd = (wd + 1) % 7\n",
    "        day += 1\n",
    "        if wd == 0:\n",
    "            print()\n",
    "    print()"
   ]
  },
  {
   "cell_type": "code",
   "execution_count": 4,
   "metadata": {},
   "outputs": [
    {
     "name": "stdout",
     "output_type": "stream",
     "text": [
      "   February 2024    \n",
      "Su Mo Tu We Th Fr Sa\n",
      "             1  2  3 \n",
      " 4  5  6  7  8  9 10 \n",
      "11 12 13 14 15 16 17 \n",
      "18 19 20 21 22 23 24 \n",
      "25 26 27 28 29 \n"
     ]
    }
   ],
   "source": [
    "print_month(\"February\", 2024)"
   ]
  },
  {
   "cell_type": "code",
   "execution_count": 5,
   "metadata": {},
   "outputs": [
    {
     "name": "stdout",
     "output_type": "stream",
     "text": [
      "April has 30 days\n"
     ]
    }
   ],
   "source": [
    "days_in_months = {\n",
    "    \"January\": 31,\n",
    "    \"February\": 28,\n",
    "    \"March\": 31,\n",
    "    \"April\": 30,\n",
    "    \"May\": 31,\n",
    "    \"June\": 30,\n",
    "    \"July\": 31,\n",
    "    \"August\": 31,\n",
    "    \"September\": 30,\n",
    "    \"October\": 31,\n",
    "    \"November\": 30,\n",
    "    \"December\": 31,\n",
    "}\n",
    "print(f\"April has {days_in_months['April']} days\")"
   ]
  },
  {
   "cell_type": "code",
   "execution_count": 6,
   "metadata": {},
   "outputs": [],
   "source": [
    "def base26(word: str) -> int:\n",
    "    val = 0\n",
    "    for ch in word.lower():\n",
    "        new_digit = ord(ch) - ord(\"a\")\n",
    "        val = 26 * val + new_digit\n",
    "    return val"
   ]
  },
  {
   "cell_type": "markdown",
   "metadata": {},
   "source": [
    "## A Hastable Structure for (Key, Value) Pairs"
   ]
  },
  {
   "cell_type": "code",
   "execution_count": 7,
   "metadata": {},
   "outputs": [],
   "source": [
    "class Entry:\n",
    "    def __init__(self, key: Any, value: Any):\n",
    "        self.key = key\n",
    "        self.value = value\n",
    "\n",
    "\n",
    "class Hashtable:\n",
    "    def __init__(self, M: int = 10):\n",
    "        self.table = [None] * M\n",
    "        self.M = M\n",
    "\n",
    "    def get(self, key: Any) -> Any:\n",
    "        hc = hash(key) % self.M\n",
    "        return self.table[hc].value if self.table[hc] else None\n",
    "\n",
    "    def put(self, key: Any, value: Any):\n",
    "        hc = hash(key) % self.M\n",
    "        entry = self.table[hc]\n",
    "        if entry:\n",
    "            if entry.key == key:\n",
    "                entry.value = value\n",
    "            else:\n",
    "                raise RuntimeError(f\"Key collision: {key} and {entry.key}\")\n",
    "        else:\n",
    "            self.table[hc] = Entry(key, value)"
   ]
  },
  {
   "cell_type": "code",
   "execution_count": 8,
   "metadata": {},
   "outputs": [
    {
     "name": "stdout",
     "output_type": "stream",
     "text": [
      "30\n",
      "None\n"
     ]
    }
   ],
   "source": [
    "table = Hashtable(1000)\n",
    "table.put(\"April\", \"30\")\n",
    "table.put(\"May\", \"31\")\n",
    "table.put(\"June\", \"30\")\n",
    "\n",
    "print(table.get(\"April\"))\n",
    "print(table.get(\"August\"))\n"
   ]
  },
  {
   "cell_type": "markdown",
   "metadata": {},
   "source": [
    "## Detecting and Resolving Collisions with Linear Probing"
   ]
  },
  {
   "cell_type": "code",
   "execution_count": 9,
   "metadata": {},
   "outputs": [],
   "source": [
    "# Hashtable with Linear Probing\n",
    "class LinearProbingHashtable:\n",
    "    def __init__(self, M: int = 10):\n",
    "        self.table = [None] * M\n",
    "        self.M = M\n",
    "        self.N = 0\n",
    "\n",
    "    def get(self, key):\n",
    "        hash_code = hash(key) % self.M\n",
    "        while self.table[hash_code]:\n",
    "            if self.table[hash_code].key == key:\n",
    "                return self.table[hash_code].value\n",
    "            hash_code = (hash_code + 1) % self.M\n",
    "        return None\n",
    "\n",
    "    def put(self, key, value):\n",
    "        hash_code = hash(key) % self.M\n",
    "        while self.table[hash_code]:\n",
    "            if self.table[hash_code].key == key:\n",
    "                self.table[hash_code].value = value\n",
    "                return\n",
    "            hash_code = (hash_code + 1) % self.M\n",
    "        if self.N >= self.M - 1:\n",
    "            raise RuntimeError(\"Table is full\")\n",
    "\n",
    "        self.table[hash_code] = Entry(key, value)\n",
    "        self.N += 1"
   ]
  },
  {
   "cell_type": "markdown",
   "metadata": {},
   "source": [
    "## Separate Chaining with Linked Lists"
   ]
  },
  {
   "cell_type": "code",
   "execution_count": 10,
   "metadata": {},
   "outputs": [],
   "source": [
    "class LinkedEntry:\n",
    "    def __init__(self, key, value, next=None):\n",
    "        self.key = key\n",
    "        self.value = value\n",
    "        self.next = next"
   ]
  },
  {
   "cell_type": "code",
   "execution_count": 12,
   "metadata": {},
   "outputs": [],
   "source": [
    "class LinkedListHashtable:\n",
    "    def __init__(self, M: int = 10):\n",
    "        self.table = [None] * M\n",
    "        self.M = M\n",
    "        self.N = 0\n",
    "\n",
    "    def get(self, key):\n",
    "        hash_code = hash(key) % self.M\n",
    "        entry = self.table[hash_code]\n",
    "        while entry:\n",
    "            if entry.key == key:\n",
    "                return entry.value\n",
    "            entry = entry.next\n",
    "        return None\n",
    "\n",
    "    def put(self, key, value):\n",
    "        hash_code = hash(key) % self.M\n",
    "        entry = self.table[hash_code]\n",
    "        while entry:\n",
    "            if entry.key == key:\n",
    "                entry.value = value\n",
    "                return\n",
    "            entry = entry.next\n",
    "\n",
    "        self.table[hash_code] = LinkedEntry(key, value, self.table[hash_code])\n",
    "        self.N += 1\n",
    "\n",
    "    def remove(self, key):\n",
    "        hash_code = hash(key) % self.M\n",
    "        entry = self.table[hash_code]\n",
    "        prev = None\n",
    "        while entry:\n",
    "            if entry.key == key:\n",
    "                if prev:\n",
    "                    prev.next = entry.next\n",
    "                else:\n",
    "                    self.table[hash_code] = entry.next\n",
    "                self.N -= 1\n",
    "                return entry.value\n",
    "            prev, entry = entry, entry.next\n",
    "        return None"
   ]
  },
  {
   "cell_type": "code",
   "execution_count": null,
   "metadata": {},
   "outputs": [],
   "source": []
  },
  {
   "cell_type": "markdown",
   "metadata": {},
   "source": [
    "## Growing Hashtables"
   ]
  },
  {
   "cell_type": "code",
   "execution_count": null,
   "metadata": {},
   "outputs": [],
   "source": [
    "class DynamicHashtable:\n",
    "    def __init__(self, M: int = 10):\n",
    "        self.table = [None] * M\n",
    "        self.M = M\n",
    "        self.N = 0\n",
    "        self.load_factor = 0.75\n",
    "        self.threshold = min(M * self.load_factor, M - 1)\n",
    "\n",
    "    def get(self, key):\n",
    "        pass\n",
    "\n",
    "    def put(self, key, value):\n",
    "        hash_code = hash(key) % self.M\n",
    "        entry = self.table[hash_code]\n",
    "        while entry:\n",
    "            if entry.key == key:\n",
    "                entry.value = value\n",
    "                return\n",
    "            entry = entry.next\n",
    "        self.table[hash_code] = LinkedEntry(key, value, self.table[hash_code])\n",
    "        self.N += 1\n",
    "        if self.N >= self.threshold:\n",
    "            self.resize(2 * self.M + 1)\n",
    "    \n",
    "    def resize(self, new_size):\n",
    "        temp = DynamicHashtable(new_size)\n",
    "        for n in self.table:\n",
    "            while n:\n",
    "                temp.put(n.key, n.value)\n",
    "                n = n.next\n",
    "        self.table = temp.table\n",
    "        self.M = temp.M\n",
    "        self.threshold = self.load_factor * self.M"
   ]
  },
  {
   "cell_type": "markdown",
   "metadata": {},
   "source": [
    "## Perfect Hashing"
   ]
  },
  {
   "cell_type": "code",
   "execution_count": 16,
   "metadata": {},
   "outputs": [],
   "source": [
    "G = [0, 8, 1, 4, 7, 10, 2, 0, 9, 11, 1, 5]\n",
    "s1 = [9, 4, 8, 6, 6]\n",
    "s2 = [2, 10, 6, 3, 5]\n",
    "\n",
    "\n",
    "def hash_f(key, T):\n",
    "    return sum(T[i % 5] * ord(c) for i, c in enumerate(key)) % 12\n",
    "\n",
    "\n",
    "def perfect_hash(key):\n",
    "    return (G[hash_f(key, s1)] + G[hash_f(key, s2)]) % 12"
   ]
  },
  {
   "cell_type": "markdown",
   "metadata": {},
   "source": [
    "## Iterate over (key, value) pairs"
   ]
  },
  {
   "cell_type": "code",
   "execution_count": 17,
   "metadata": {},
   "outputs": [],
   "source": [
    "def __iter__(self):\n",
    "    for entry in self.table:\n",
    "        if entry:\n",
    "            yield (entry.key, entry.value)\n",
    "\n",
    "\n",
    "def __iter__(self):\n",
    "    for entry in self.table:\n",
    "        while entry:\n",
    "            yield (entry.key, entry.value)\n",
    "            entry = entry.next"
   ]
  }
 ],
 "metadata": {
  "kernelspec": {
   "display_name": "default",
   "language": "python",
   "name": "python3"
  },
  "language_info": {
   "codemirror_mode": {
    "name": "ipython",
    "version": 3
   },
   "file_extension": ".py",
   "mimetype": "text/x-python",
   "name": "python",
   "nbconvert_exporter": "python",
   "pygments_lexer": "ipython3",
   "version": "3.12.7"
  }
 },
 "nbformat": 4,
 "nbformat_minor": 2
}
