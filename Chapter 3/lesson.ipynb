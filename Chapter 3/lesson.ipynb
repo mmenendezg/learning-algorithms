{
 "cells": [
  {
   "cell_type": "markdown",
   "metadata": {},
   "source": [
    "# Chapter 3: Better Living Through Better Hashing"
   ]
  },
  {
   "cell_type": "markdown",
   "metadata": {},
   "source": [
    "## Imports and Setup"
   ]
  },
  {
   "cell_type": "code",
   "execution_count": 1,
   "metadata": {},
   "outputs": [],
   "source": [
    "from datetime import date\n",
    "import calendar"
   ]
  },
  {
   "cell_type": "markdown",
   "metadata": {},
   "source": [
    "## Associting Values with Keys"
   ]
  },
  {
   "cell_type": "code",
   "execution_count": 2,
   "metadata": {},
   "outputs": [
    {
     "name": "stdout",
     "output_type": "stream",
     "text": [
      "Febrary has 28 days\n"
     ]
    }
   ],
   "source": [
    "month_length = [31, 28, 31, 30, 31, 30, 31, 31, 30, 31, 30, 31]\n",
    "key_array = [\n",
    "    \"January\",\n",
    "    \"February\",\n",
    "    \"March\",\n",
    "    \"April\",\n",
    "    \"May\",\n",
    "    \"June\",\n",
    "    \"July\",\n",
    "    \"August\",\n",
    "    \"September\",\n",
    "    \"October\",\n",
    "    \"November\",\n",
    "    \"December\",\n",
    "]\n",
    "\n",
    "idx = key_array.index(\"February\")\n",
    "print(f\"Febrary has {month_length[idx]} days\")"
   ]
  },
  {
   "cell_type": "code",
   "execution_count": 3,
   "metadata": {},
   "outputs": [],
   "source": [
    "def print_month(month, year):\n",
    "    idx = key_array.index(month)\n",
    "    day = 1\n",
    "\n",
    "    wd = date(year, idx + 1, day).weekday()\n",
    "    wd = (wd + 1) % 7\n",
    "    end = month_length[idx]\n",
    "    if calendar.isleap(year) and idx == 1:\n",
    "        end += 1\n",
    "    print(f\"{month} {year}\".center(20))\n",
    "    print(\"Su Mo Tu We Th Fr Sa\")\n",
    "    print(\"   \" * wd, end=\"\")\n",
    "    while day <= end:\n",
    "        print(f\"{day:2d} \", end=\"\")\n",
    "        wd = (wd + 1) % 7\n",
    "        day += 1\n",
    "        if wd == 0:\n",
    "            print()\n",
    "    print()"
   ]
  },
  {
   "cell_type": "code",
   "execution_count": 4,
   "metadata": {},
   "outputs": [
    {
     "name": "stdout",
     "output_type": "stream",
     "text": [
      "   February 2024    \n",
      "Su Mo Tu We Th Fr Sa\n",
      "             1  2  3 \n",
      " 4  5  6  7  8  9 10 \n",
      "11 12 13 14 15 16 17 \n",
      "18 19 20 21 22 23 24 \n",
      "25 26 27 28 29 \n"
     ]
    }
   ],
   "source": [
    "print_month(\"February\", 2024)"
   ]
  },
  {
   "cell_type": "code",
   "execution_count": 5,
   "metadata": {},
   "outputs": [
    {
     "name": "stdout",
     "output_type": "stream",
     "text": [
      "April has 30 days\n"
     ]
    }
   ],
   "source": [
    "days_in_month = {\n",
    "    \"January\": 31,\n",
    "    \"February\": 28,\n",
    "    \"March\": 31,\n",
    "    \"April\": 30,\n",
    "    \"May\": 31,\n",
    "    \"June\": 30,\n",
    "    \"July\": 31,\n",
    "    \"August\": 31,\n",
    "    \"September\": 30,\n",
    "    \"October\": 31,\n",
    "    \"November\": 30,\n",
    "    \"December\": 31,\n",
    "}\n",
    "print(f\"April has {days_in_month['April']} days\")"
   ]
  },
  {
   "cell_type": "code",
   "execution_count": 6,
   "metadata": {},
   "outputs": [
    {
     "data": {
      "text/plain": [
       "142883117"
      ]
     },
     "execution_count": 6,
     "metadata": {},
     "output_type": "execute_result"
    }
   ],
   "source": [
    "# Convert a word to a base 26 integer\n",
    "def base26(word: str) -> int:\n",
    "    val = 0\n",
    "    for ch in word.lower():\n",
    "        new_digit = ord(ch) - ord(\"a\")\n",
    "        val = 26 * val + new_digit\n",
    "    return val\n",
    "\n",
    "\n",
    "base26(\"Marlon\")"
   ]
  },
  {
   "cell_type": "markdown",
   "metadata": {},
   "source": [
    "## A Hashtable Structure for (Key, Value) Pairs"
   ]
  },
  {
   "cell_type": "code",
   "execution_count": 7,
   "metadata": {},
   "outputs": [],
   "source": [
    "class Entry:\n",
    "    def __init__(self, key, value):\n",
    "        self.key = key\n",
    "        self.value = value"
   ]
  },
  {
   "cell_type": "code",
   "execution_count": 8,
   "metadata": {},
   "outputs": [],
   "source": [
    "# Ineffective Hastable implementation\n",
    "class Hashtable:\n",
    "    def __init__(self, M: int = 10):\n",
    "        self.table = [None] * M\n",
    "        self.M = M\n",
    "\n",
    "    def get(self, key: int) -> str:\n",
    "        hc = hash(key) % self.M\n",
    "        return self.table[hc].value if self.table[hc] else None\n",
    "\n",
    "    def put(self, key: int, value: str):\n",
    "        hc = hash(key) % self.M\n",
    "        entry = self.table[hc]\n",
    "        if entry:\n",
    "            if entry.key == key:\n",
    "                entry.value = value\n",
    "            else:\n",
    "                raise RuntimeError(\"Key already exists\")\n",
    "        else:\n",
    "            self.table[hc] = Entry(key, value)\n"
   ]
  },
  {
   "cell_type": "code",
   "execution_count": 9,
   "metadata": {},
   "outputs": [
    {
     "name": "stdout",
     "output_type": "stream",
     "text": [
      "30\n",
      "None\n"
     ]
    }
   ],
   "source": [
    "table = Hashtable(1000)\n",
    "table.put(\"April\", \"30\")\n",
    "table.put(\"May\", \"31\")\n",
    "table.put(\"June\", \"30\")\n",
    "\n",
    "print(table.get(\"April\"))\n",
    "print(table.get(\"August\"))"
   ]
  },
  {
   "cell_type": "markdown",
   "metadata": {},
   "source": [
    "## Detecting and Resolving Collisions with Linear Probing"
   ]
  },
  {
   "cell_type": "code",
   "execution_count": null,
   "metadata": {},
   "outputs": [],
   "source": []
  }
 ],
 "metadata": {
  "kernelspec": {
   "display_name": "default",
   "language": "python",
   "name": "python3"
  },
  "language_info": {
   "codemirror_mode": {
    "name": "ipython",
    "version": 3
   },
   "file_extension": ".py",
   "mimetype": "text/x-python",
   "name": "python",
   "nbconvert_exporter": "python",
   "pygments_lexer": "ipython3",
   "version": "3.13.0"
  }
 },
 "nbformat": 4,
 "nbformat_minor": 2
}
