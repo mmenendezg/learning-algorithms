{
 "cells": [
  {
   "cell_type": "markdown",
   "metadata": {},
   "source": [
    "# Challenge Exercises"
   ]
  },
  {
   "cell_type": "code",
   "execution_count": 9,
   "metadata": {},
   "outputs": [],
   "source": [
    "from python import Python, PythonObject\n",
    "from builtin import sort\n",
    "from tensor import Tensor, TensorShape\n",
    "\n",
    "from benchmark import run, keep, Unit\n"
   ]
  },
  {
   "cell_type": "markdown",
   "metadata": {},
   "source": [
    "## Exercise 1:"
   ]
  },
  {
   "cell_type": "code",
   "execution_count": 10,
   "metadata": {},
   "outputs": [],
   "source": [
    "fn is_palindrome(w: String) -> Bool:\n",
    "    var w_lower = w.lower()\n",
    "    for i in range(0, len(w_lower) // 2):\n",
    "        if w_lower[i] != w_lower[-(i + 1)]:\n",
    "            return False\n",
    "    return True"
   ]
  },
  {
   "cell_type": "code",
   "execution_count": 11,
   "metadata": {},
   "outputs": [
    {
     "name": "stdout",
     "output_type": "stream",
     "text": [
      "False\n"
     ]
    }
   ],
   "source": [
    "var s = String(\"Ana es eana\")\n",
    "print(is_palindrome(s))"
   ]
  },
  {
   "cell_type": "code",
   "execution_count": 12,
   "metadata": {},
   "outputs": [
    {
     "name": "stdout",
     "output_type": "stream",
     "text": [
      "anonaeseanona\n"
     ]
    }
   ],
   "source": [
    "var s = PythonObject(\"Anona, es eanona!\")\n",
    "var re = Python.import_module(\"re\")\n",
    "s = re.sub(r\"\\W\", \"\", s.lower())\n",
    "print(s)\n"
   ]
  },
  {
   "cell_type": "code",
   "execution_count": 13,
   "metadata": {},
   "outputs": [],
   "source": [
    "fn is_palindrome_phrase(w: PythonObject) raises -> Bool:\n",
    "    var re = Python.import_module(\"re\")\n",
    "    var w_clean = re.sub(r\"\\W\", \"\", w.lower())\n",
    "    for i in range(0, len(w_clean) // 2):\n",
    "        if w_clean[i] != w_clean[-(i + 1)]:\n",
    "            return False\n",
    "    return True"
   ]
  },
  {
   "cell_type": "code",
   "execution_count": 14,
   "metadata": {},
   "outputs": [
    {
     "name": "stdout",
     "output_type": "stream",
     "text": [
      "True\n"
     ]
    }
   ],
   "source": [
    "var s = PythonObject(\"A man, a plan, a canal. Panama!\")\n",
    "print(is_palindrome_phrase(s))"
   ]
  },
  {
   "cell_type": "markdown",
   "metadata": {},
   "source": [
    "## Exercise 2:\n",
    "Linear time median: A wonderful algorithm exists that efficiently\n",
    "locates the median value in an arbitrary list (for simplicity, assume size of list\n",
    "is odd). Review the code in Listing 1-9 and count the\n",
    "number of times less-than is invoked, using RecordedItem values as\n",
    "shown in the chapter. This implementation rearranges the arbitrary list as\n",
    "it processes."
   ]
  },
  {
   "cell_type": "code",
   "execution_count": 16,
   "metadata": {},
   "outputs": [],
   "source": [
    "fn partition(\n",
    "    unsorted_list: List[Int], lo: Int, hi: Int, idx: Int\n",
    ") raises -> Int:\n",
    "    var A = unsorted_list\n",
    "    if lo == hi:\n",
    "        return lo\n",
    "\n",
    "    A[idx], A[lo] = A[lo], A[idx]\n",
    "    var i = lo\n",
    "    var j = hi + 1\n",
    "\n",
    "    while True:\n",
    "        while True:\n",
    "            i += 1\n",
    "            if i == hi: break\n",
    "            if A[lo] < A[i]: break\n",
    "        \n",
    "        while True:\n",
    "            j -= 1\n",
    "            if j == lo: break\n",
    "            if A[lo] > A[j]: break\n",
    "        \n",
    "        if i >= j: break\n",
    "        A[i], A[j] = A[j], A[i]\n",
    "\n",
    "    A[lo], A[j] = A[j], A[lo]\n",
    "    return j\n",
    "\n",
    "\n",
    "fn linear_median(unsorted_list: List[Int]) -> Int:\n",
    "    try:\n",
    "        var rand = Python.import_module(\"random\")\n",
    "        var A = unsorted_list\n",
    "        var lo = 0\n",
    "        var hi = len(A) - 1\n",
    "        var mid = hi // 2\n",
    "\n",
    "        while lo < hi:\n",
    "            var idx = rand.randint(lo, hi)\n",
    "            var j = partition(A, lo, hi, idx)\n",
    "\n",
    "            if j == mid:\n",
    "                return A[j]\n",
    "            elif j < mid:\n",
    "                lo = j + 1\n",
    "            else:\n",
    "                hi = j - 1\n",
    "        \n",
    "        return A[lo]\n",
    "    except:\n",
    "        return 0\n",
    "    \n",
    "        \n",
    "\n"
   ]
  },
  {
   "cell_type": "markdown",
   "metadata": {},
   "source": [
    "Implement a different approach (which requires extra storage) that creates a sorted list from the input and selects the middle value. Compare its runtime with linear_median() by generating a table of runtime performance."
   ]
  },
  {
   "cell_type": "code",
   "execution_count": 17,
   "metadata": {},
   "outputs": [],
   "source": [
    "fn custom_median_finder(unsorted_list: List[Int]) -> Int:\n",
    "    var sorted_list = unsorted_list\n",
    "    sort.quick_sort(sorted_list)\n",
    "    var mid_idx = (sorted_list.size // 2)\n",
    "    var mid_value = sorted_list[mid_idx]\n",
    "    return mid_value\n"
   ]
  },
  {
   "cell_type": "code",
   "execution_count": 18,
   "metadata": {},
   "outputs": [
    {
     "name": "stdout",
     "output_type": "stream",
     "text": [
      "55 99\n",
      "[12, 14, 19, 23, 33, 55, 78, 91, 99, 123, 132]\n"
     ]
    }
   ],
   "source": [
    "var mj_list = List[Int](33, 14, 91, 19, 132, 99, 78, 123, 55, 12, 23)\n",
    "var val = custom_median_finder(mj_list)\n",
    "var val2 = linear_median(mj_list)\n",
    "print(val, val2)\n",
    "sort.quick_sort(mj_list)\n",
    "print(mj_list.__str__())"
   ]
  },
  {
   "cell_type": "code",
   "execution_count": 19,
   "metadata": {},
   "outputs": [
    {
     "name": "stdout",
     "output_type": "stream",
     "text": [
      "---------------------\n",
      "Benchmark Report (ms)\n",
      "---------------------\n",
      "Mean: 0.00014456420686987843\n",
      "Total: 1755.2719999999999\n",
      "Iters: 12141816\n",
      "Warmup Mean: 0.001\n",
      "Warmup Total: 0.002\n",
      "Warmup Iters: 2\n",
      "Fastest Mean: 0.00014456420686987843\n",
      "Slowest Mean: 0.00014456420686987843\n",
      "\n"
     ]
    }
   ],
   "source": [
    "fn benchmark_1():\n",
    "    var list = List[Int](33, 14, 91, 19, 132, 99, 78, 123, 55, 12, 23)\n",
    "    var val = custom_median_finder(list)\n",
    "\n",
    "run[benchmark_1](max_runtime_secs=0.5).print(\"ms\")"
   ]
  },
  {
   "cell_type": "code",
   "execution_count": 20,
   "metadata": {},
   "outputs": [
    {
     "name": "stdout",
     "output_type": "stream",
     "text": [
      "---------------------\n",
      "Benchmark Report (ms)\n",
      "---------------------\n",
      "Mean: 0.027166599999999999\n",
      "Total: 543.33199999999999\n",
      "Iters: 20000\n",
      "Warmup Mean: 0.067000000000000004\n",
      "Warmup Total: 0.13400000000000001\n",
      "Warmup Iters: 2\n",
      "Fastest Mean: 0.027166599999999999\n",
      "Slowest Mean: 0.027166599999999999\n",
      "\n"
     ]
    }
   ],
   "source": [
    "fn benchmark_2():\n",
    "    var list = List[Int](33, 14, 91, 19, 132, 99, 78, 123, 55, 12, 23)\n",
    "    var val = linear_median(list)\n",
    "\n",
    "run[benchmark_2](max_runtime_secs=0.5).print(\"ms\")"
   ]
  },
  {
   "cell_type": "markdown",
   "metadata": {},
   "source": [
    "## Exercise 3: Counting Sort\n",
    "If you know that an arbitrary list, A, only contains nonnegative integers from 0 to M, then the following algorithm will peroperly sort A using just an extra storage of size M.\n",
    "\n",
    "Listing 1-10 has nested loops - a flor loop within a while loop. However, you can demonstrate that A[pos + idx] = v only executes N times.\n"
   ]
  },
  {
   "cell_type": "code",
   "execution_count": 42,
   "metadata": {},
   "outputs": [],
   "source": [
    "fn counting_sort(inout A: List[Int], M: Int):\n",
    "    var counts = List[Int]()\n",
    "    for _ in range(M): counts.append(0)\n",
    "\n",
    "    for v in A:\n",
    "        counts[v[]] += 1\n",
    "\n",
    "    var pos = 0\n",
    "    var v = 0 \n",
    "    while pos < len(A):\n",
    "        for idx in range(counts[v]):\n",
    "            A[pos + idx] = v\n",
    "        pos += counts[v]\n",
    "        v += 1\n",
    "\n"
   ]
  },
  {
   "cell_type": "code",
   "execution_count": 56,
   "metadata": {},
   "outputs": [
    {
     "name": "stdout",
     "output_type": "stream",
     "text": [
      "[1, 2, 3, 4, 5]\n"
     ]
    }
   ],
   "source": [
    "var unsorted = List[Int](5, 2, 1, 3, 4)\n",
    "counting_sort(unsorted, len(unsorted))\n",
    "print(unsorted.__str__())"
   ]
  },
  {
   "cell_type": "code",
   "execution_count": 65,
   "metadata": {},
   "outputs": [],
   "source": [
    "fn benchmark_1():\n",
    "    var counts = List[Int](10, 8, 5, 7, 3, 2, 1, 4, 6, 9)\n",
    "    counting_sort(counts, len(counts))\n",
    "\n",
    "\n",
    "fn benchmark_2():\n",
    "    var counts = List[Int](\n",
    "        20, 13, 11, 7, 17, 19, 4, 1, 16, 15, 14, 12, 18, 6, 8, 9, 5, 10, 3, 2\n",
    "    )\n",
    "    counting_sort(counts, len(counts))\n",
    "\n",
    "fn benchmark_3():\n",
    "    var counts = List[Int](\n",
    "        40, 39, 38, 37, 36, 35, 34, 33, 32, 31, 30, 29, 28, 27, 26, 25, 24, 23, 22, 21, 20, 19, 18, 17, 16, 15, 14, 13, 12, 11, 10, 9, 8, 7, 6, 5, 4, 3, 2, 1\n",
    "    )\n",
    "    counting_sort(counts, len(counts))"
   ]
  },
  {
   "cell_type": "code",
   "execution_count": 74,
   "metadata": {},
   "outputs": [
    {
     "name": "stderr",
     "output_type": "stream",
     "text": [
      "error: Execution was interrupted, reason: EXC_BREAKPOINT (code=1, subcode=0x193e3d04c).\n",
      "The process has been left at the point where it was interrupted, use \"thread return -x\" to return to the state before expression evaluation.\n"
     ]
    }
   ],
   "source": [
    "run[benchmark_1](max_runtime_secs=0.5).print()"
   ]
  }
 ],
 "metadata": {
  "kernelspec": {
   "display_name": "Mojo (max)",
   "language": "mojo",
   "name": "mojo-max-jupyter-kernel"
  },
  "language_info": {
   "codemirror_mode": {
    "name": "mojo"
   },
   "file_extension": ".mojo",
   "mimetype": "text/x-mojo",
   "name": "mojo"
  }
 },
 "nbformat": 4,
 "nbformat_minor": 2
}
