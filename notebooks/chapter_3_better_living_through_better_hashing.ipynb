{
 "cells": [
  {
   "cell_type": "markdown",
   "metadata": {},
   "source": [
    "# Chapter 3: Better Living Through Better Hashing"
   ]
  },
  {
   "cell_type": "markdown",
   "metadata": {},
   "source": [
    "## Setup"
   ]
  },
  {
   "cell_type": "code",
   "execution_count": 2,
   "metadata": {},
   "outputs": [],
   "source": [
    "from datetime import date\n",
    "import calendar"
   ]
  },
  {
   "cell_type": "markdown",
   "metadata": {},
   "source": [
    "## Associating Values with Keys"
   ]
  },
  {
   "cell_type": "code",
   "execution_count": 1,
   "metadata": {},
   "outputs": [
    {
     "name": "stdout",
     "output_type": "stream",
     "text": [
      "February has 28 days\n"
     ]
    }
   ],
   "source": [
    "months_length = [31, 28, 31, 30, 31, 30, 31, 31, 30, 31, 30, 31]\n",
    "key_array = [\n",
    "    \"January\",\n",
    "    \"February\",\n",
    "    \"March\",\n",
    "    \"April\",\n",
    "    \"May\",\n",
    "    \"June\",\n",
    "    \"July\",\n",
    "    \"August\",\n",
    "    \"September\",\n",
    "    \"October\",\n",
    "    \"November\",\n",
    "    \"December\",\n",
    "]\n",
    "idx = key_array.index((\"February\"))\n",
    "print(f\"February has {months_length[idx]} days\")"
   ]
  },
  {
   "cell_type": "code",
   "execution_count": 13,
   "metadata": {},
   "outputs": [
    {
     "name": "stdout",
     "output_type": "stream",
     "text": [
      "     August 2024      \n",
      "Su Mo Tu We Th Fr Sa\n",
      "             1  2  3 \n",
      " 4  5  6  7  8  9 10 \n",
      "11 12 13 14 15 16 17 \n",
      "18 19 20 21 22 23 24 \n",
      "25 26 27 28 29 30 31 \n",
      "\n"
     ]
    }
   ],
   "source": [
    "def print_month(month, year):\n",
    "    idx = key_array.index(month)                    # 1\n",
    "    day = 1\n",
    "\n",
    "    wd = date(year, idx + 1, day).weekday()         # 2\n",
    "    wd = (wd + 1) % 7                               # 3\n",
    "    end = months_length[idx]                        # 4\n",
    "    if calendar.isleap(year) and idx == 1:          # 5\n",
    "        end += 1\n",
    "    \n",
    "    print(f\"{month} {year}\".format().center(22))\n",
    "    print(\"Su Mo Tu We Th Fr Sa\")\n",
    "    print(\"   \" * wd, end=\"\")                      # 6\n",
    "    while day  <= end:\n",
    "        print(f\"{day:2d}\", end=\" \")\n",
    "        wd = (wd + 1) % 7                           # 7\n",
    "        day += 1\n",
    "        if wd == 0: print()                         # 8\n",
    "    \n",
    "    print()\n",
    "\n",
    "print_month(\"August\", 2024)\n",
    "\n"
   ]
  },
  {
   "cell_type": "code",
   "execution_count": 14,
   "metadata": {},
   "outputs": [],
   "source": [
    "days_in_months = {\n",
    "    \"January\": 31,\n",
    "    \"February\": 28,\n",
    "    \"March\": 31,\n",
    "    \"April\": 30,\n",
    "    \"May\": 31,\n",
    "    \"June\": 30,\n",
    "    \"July\": 31,\n",
    "    \"August\": 31,\n",
    "    \"September\": 30,\n",
    "    \"October\": 31,\n",
    "    \"November\": 30,\n",
    "    \"December\": 31,\n",
    "}"
   ]
  },
  {
   "cell_type": "code",
   "execution_count": 15,
   "metadata": {},
   "outputs": [
    {
     "name": "stdout",
     "output_type": "stream",
     "text": [
      "April has 30 days\n"
     ]
    }
   ],
   "source": [
    "print(f\"April has {days_in_months[\"April\"]} days\")"
   ]
  },
  {
   "cell_type": "code",
   "execution_count": 16,
   "metadata": {},
   "outputs": [],
   "source": [
    "# Convert a word to a number assuming base 26\n",
    "def word_to_number(word):\n",
    "    val = 0\n",
    "    for character in word.lower(): \n",
    "        next_digit = ord(character) - ord('a')\n",
    "        val = val * 26 + next_digit\n",
    "    return val\n"
   ]
  },
  {
   "cell_type": "markdown",
   "metadata": {},
   "source": [
    "## A Hashtable Structure for (key, value) Pairs"
   ]
  },
  {
   "cell_type": "code",
   "execution_count": 26,
   "metadata": {},
   "outputs": [],
   "source": [
    "class Entry:\n",
    "    def __init__(self, key, value):\n",
    "        self.key = key\n",
    "        self.value = value"
   ]
  },
  {
   "cell_type": "code",
   "execution_count": 27,
   "metadata": {},
   "outputs": [],
   "source": [
    "class Hashtable:\n",
    "    def __init__(self, M=10):\n",
    "        self.table = [None] * M\n",
    "        self.M = M\n",
    "\n",
    "    def get(self, key):\n",
    "        hash_code = hash(key) % self.M\n",
    "        return self.table[hash_code].value if self.table[hash_code] else None\n",
    "    \n",
    "    def put(self, key, value):\n",
    "        hash_code = hash(key) % self.M\n",
    "        entry = self.table[hash_code]\n",
    "        if entry:\n",
    "            if entry.key == key:\n",
    "                entry.value = value\n",
    "            else:\n",
    "                raise RuntimeError(f\"Key Collsion: {key} and {entry.key}\")\n",
    "        else:\n",
    "            self.table[hash_code] = Entry(key, value)"
   ]
  },
  {
   "cell_type": "code",
   "execution_count": 28,
   "metadata": {},
   "outputs": [],
   "source": [
    "table = Hashtable(1000)\n",
    "table.put(\"April\", 30)\n",
    "table.put(\"May\", 31)\n",
    "table.put(\"June\", 30)"
   ]
  },
  {
   "cell_type": "code",
   "execution_count": 29,
   "metadata": {},
   "outputs": [
    {
     "name": "stdout",
     "output_type": "stream",
     "text": [
      "30\n",
      "None\n"
     ]
    }
   ],
   "source": [
    "print(table.get(\"April\"))\n",
    "print(table.get(\"December\"))"
   ]
  },
  {
   "cell_type": "markdown",
   "metadata": {},
   "source": [
    "## Detecting and Resolving Collisions with linear probing"
   ]
  }
 ],
 "metadata": {
  "kernelspec": {
   "display_name": "default",
   "language": "python",
   "name": "python3"
  },
  "language_info": {
   "codemirror_mode": {
    "name": "ipython",
    "version": 3
   },
   "file_extension": ".py",
   "mimetype": "text/x-python",
   "name": "python",
   "nbconvert_exporter": "python",
   "pygments_lexer": "ipython3",
   "version": "3.12.5"
  }
 },
 "nbformat": 4,
 "nbformat_minor": 2
}
