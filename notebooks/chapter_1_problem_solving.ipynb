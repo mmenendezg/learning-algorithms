{
 "cells": [
  {
   "cell_type": "markdown",
   "metadata": {},
   "source": [
    "# Problem Solving"
   ]
  },
  {
   "cell_type": "code",
   "execution_count": 11,
   "metadata": {},
   "outputs": [],
   "source": [
    "import numojo as nm\n",
    "from python import Python\n",
    "from tensor import Tensor, TensorShape"
   ]
  },
  {
   "cell_type": "markdown",
   "metadata": {},
   "source": [
    "## What is an algorithm?"
   ]
  },
  {
   "cell_type": "code",
   "execution_count": 2,
   "metadata": {},
   "outputs": [
    {
     "name": "stdout",
     "output_type": "stream",
     "text": [
      "92\n"
     ]
    }
   ],
   "source": [
    "var numbers = SIMD[DType.int32, 8](31, 4, 15, 92, 6, 5, 3, 5)\n",
    "var max_value = numbers.reduce_max()\n",
    "print(max_value)\n"
   ]
  },
  {
   "cell_type": "code",
   "execution_count": 3,
   "metadata": {},
   "outputs": [
    {
     "name": "stdout",
     "output_type": "stream",
     "text": [
      "3\n"
     ]
    }
   ],
   "source": [
    "print(numbers[6])"
   ]
  },
  {
   "cell_type": "markdown",
   "metadata": {},
   "source": [
    "## Finding the Largest value in an arbitrary list"
   ]
  },
  {
   "cell_type": "code",
   "execution_count": 4,
   "metadata": {},
   "outputs": [],
   "source": [
    "fn flawed[n: Int](A: SIMD[DType.int32, n]) -> SIMD[DType.int32, 1]:\n",
    "    var my_max: SIMD[DType.int32, 1] = 0\n",
    "    for v in range(len(A)):\n",
    "        if A[v] > my_max:\n",
    "            my_max = A[v]\n",
    "    return my_max\n"
   ]
  },
  {
   "cell_type": "code",
   "execution_count": 5,
   "metadata": {},
   "outputs": [
    {
     "name": "stdout",
     "output_type": "stream",
     "text": [
      "92\n"
     ]
    }
   ],
   "source": [
    "max_value = flawed(numbers)\n",
    "print(max_value)"
   ]
  },
  {
   "cell_type": "code",
   "execution_count": 6,
   "metadata": {},
   "outputs": [],
   "source": [
    "## Corrected function\n",
    "fn largest[n: Int](A: SIMD[DType.int32, n]) raises -> SIMD[DType.int32, 1]:\n",
    "    var my_max: SIMD[DType.int32, 1] = A[0]\n",
    "    for v in range(1, len(A)):\n",
    "        if A[v] > my_max:\n",
    "            my_max = A[v]\n",
    "    return my_max"
   ]
  },
  {
   "cell_type": "code",
   "execution_count": 7,
   "metadata": {},
   "outputs": [
    {
     "name": "stdout",
     "output_type": "stream",
     "text": [
      "92\n"
     ]
    }
   ],
   "source": [
    "max_value = largest(numbers)\n",
    "print(max_value)"
   ]
  },
  {
   "cell_type": "markdown",
   "metadata": {},
   "source": [
    "## Models can predict algorithm performance"
   ]
  },
  {
   "cell_type": "code",
   "execution_count": 8,
   "metadata": {},
   "outputs": [],
   "source": [
    "fn alternate[n: Int](A: SIMD[DType.int32, n]) -> SIMD[DType.int32, 1]:\n",
    "    for v in range(len(A)):\n",
    "        var v_is_largest = True\n",
    "        for x in range(len(A)):\n",
    "            if A[x] < A[v]:\n",
    "                v_is_largest = False\n",
    "                break\n",
    "        if v_is_largest:\n",
    "            return A[v]\n",
    "    return 0"
   ]
  },
  {
   "cell_type": "code",
   "execution_count": 9,
   "metadata": {},
   "outputs": [
    {
     "name": "stdout",
     "output_type": "stream",
     "text": [
      "3\n",
      "[31, 4, 15, 92, 6, 5, 3, 5]\n"
     ]
    }
   ],
   "source": [
    "max_value = alternate[8](numbers)\n",
    "print(max_value)\n",
    "print(numbers)"
   ]
  },
  {
   "cell_type": "markdown",
   "metadata": {},
   "source": [
    "## Finding two largest values in an arbitrary list"
   ]
  },
  {
   "cell_type": "code",
   "execution_count": 10,
   "metadata": {},
   "outputs": [],
   "source": [
    "fn largest_two[dtype: DType, size: Int](A: SIMD[dtype, size]) raises -> SIMD[dtype, 2]:\n",
    "    \n",
    "    var first: SIMD[dtype, 1] = A[0]\n",
    "    var second: SIMD[dtype, 1] = A[1]\n",
    "\n",
    "    if second > first:\n",
    "        first, second = second, first\n",
    "\n",
    "    for v in range(2, len(A)):\n",
    "        if A[v] > first:\n",
    "            second = first\n",
    "            first = A[v]\n",
    "        elif A[v] > second:\n",
    "            second = A[v]\n",
    "\n",
    "    return SIMD[dtype, 2](first, second)\n",
    "\n",
    "fn largest_two[dtype: DType](A: nm.NDArray[dtype]) raises -> SIMD[dtype, 2]:\n",
    "    \n",
    "    var first: SIMD[dtype, 1] = A[0]\n",
    "    var second: SIMD[dtype, 1] = A[1]\n",
    "\n",
    "    if second > first:\n",
    "        first, second = second, first\n",
    "\n",
    "    for v in range(2, len(A)):\n",
    "        if A[v] > first:\n",
    "            second = first\n",
    "            first = A[v]\n",
    "        elif A[v] > second:\n",
    "            second = A[v]\n",
    "\n",
    "    return SIMD[dtype, 2](first, second)"
   ]
  },
  {
   "cell_type": "code",
   "execution_count": 11,
   "metadata": {},
   "outputs": [
    {
     "name": "stdout",
     "output_type": "stream",
     "text": [
      "[92, 31]\n",
      "[31, 4, 15, 92, 6, 5, 3, 5]\n"
     ]
    }
   ],
   "source": [
    "var two_max = largest_two(numbers)\n",
    "print(two_max)\n",
    "print(numbers)\n"
   ]
  },
  {
   "cell_type": "code",
   "execution_count": 74,
   "metadata": {},
   "outputs": [],
   "source": [
    "fn tournament_two(A: PythonObject) raises -> (Int, Int):\n",
    "\n",
    "    var N = len(A)\n",
    "    var winner = PythonObject([])\n",
    "    var loser = PythonObject([])\n",
    "    var prior = PythonObject([])\n",
    "    var idx = 0\n",
    "    var m = 0\n",
    "\n",
    "    for i in range(N - 1):\n",
    "        winner.append(Python.none())    # 1\n",
    "        loser.append(Python.none())\n",
    "        prior.append(-1)                # 2\n",
    "    \n",
    "    for i in range(0, N, 2):            # 3\n",
    "        if A[i] < A[i + 1]:\n",
    "            winner[idx] = A[i + 1]\n",
    "            loser[idx] = A[i]\n",
    "        else:\n",
    "            winner[idx] = A[i]\n",
    "            loser[idx] = A[i + 1]\n",
    "        idx += 1\n",
    "    \n",
    "    while idx < (N - 1):                # 4\n",
    "        if winner[m] < winner[m + 1]:   # 5\n",
    "            winner[idx] = winner[m + 1]\n",
    "            loser[idx] = winner[m]\n",
    "            prior[idx] = m + 1\n",
    "        else:\n",
    "            winner[idx] = winner[m]\n",
    "            loser[idx] = winner[m + 1]\n",
    "            prior[idx] = m\n",
    "        m += 2                          # 6\n",
    "        idx += 1\n",
    "    \n",
    "    var largest = winner[m]\n",
    "    var second = loser[m]              # 7  \n",
    "    m = prior[m]\n",
    "\n",
    "    while m >= 0:\n",
    "        if second < loser[m]:           # 8\n",
    "            second = loser[m]\n",
    "        m = prior[m]\n",
    "    \n",
    "    return (Int(largest), Int(second))"
   ]
  },
  {
   "cell_type": "code",
   "execution_count": 75,
   "metadata": {},
   "outputs": [
    {
     "name": "stdout",
     "output_type": "stream",
     "text": [
      "The winner is 92 and the runner up is 31\n"
     ]
    }
   ],
   "source": [
    "var numbers = PythonObject([31, 4, 15, 92, 6, 5, 3, 5])\n",
    "var winners = tournament_two(numbers)\n",
    "print(\"The winner is\", winners[0], \"and the runner up is\", winners[1])"
   ]
  },
  {
   "cell_type": "code",
   "execution_count": null,
   "metadata": {},
   "outputs": [],
   "source": []
  }
 ],
 "metadata": {
  "kernelspec": {
   "display_name": "Mojo (max)",
   "language": "mojo",
   "name": "mojo-max-jupyter-kernel"
  },
  "language_info": {
   "codemirror_mode": {
    "name": "mojo"
   },
   "file_extension": ".mojo",
   "mimetype": "text/x-mojo",
   "name": "mojo"
  }
 },
 "nbformat": 4,
 "nbformat_minor": 2
}
