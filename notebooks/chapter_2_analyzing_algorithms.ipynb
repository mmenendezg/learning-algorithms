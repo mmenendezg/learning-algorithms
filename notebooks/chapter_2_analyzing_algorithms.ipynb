{
 "cells": [
  {
   "cell_type": "markdown",
   "metadata": {},
   "source": [
    "# Chapter 2: Analyzing Algorithms"
   ]
  },
  {
   "cell_type": "markdown",
   "metadata": {},
   "source": [
    "## Setup"
   ]
  },
  {
   "cell_type": "code",
   "execution_count": 1,
   "metadata": {},
   "outputs": [],
   "source": [
    "import numojo as nm\n",
    "from python import Python, PythonObject as py\n",
    "alias F = Float32\n",
    "import sys"
   ]
  },
  {
   "cell_type": "markdown",
   "metadata": {},
   "source": [
    "## Using Empirical Models to Predict Performance"
   ]
  },
  {
   "cell_type": "code",
   "execution_count": 2,
   "metadata": {},
   "outputs": [
    {
     "name": "stdout",
     "output_type": "stream",
     "text": [
      "Linear =  0.0005616666775556729 * N + 0.30216665660729847\n"
     ]
    }
   ],
   "source": [
    "var xs = nm.NDArray(data=List[F](100, 1000, 10000), shape=List[Int](3))\n",
    "var ys = nm.NDArray(data=List[F](63e-2, 0.565, 5.946), shape=List[Int](3))\n",
    "\n",
    "var np = Python.import_module(\"numpy\")\n",
    "var scipy = Python.import_module(\"scipy\")\n",
    "\n",
    "var np_xs = xs.to_numpy()\n",
    "var np_ys = ys.to_numpy()\n",
    "\n",
    "var linear_model = Python.evaluate(\"lambda n, a, b: a * n + b\")\n",
    "var opt = scipy.optimize.curve_fit(linear_model, np_xs, np_ys)\n",
    "print(\"Linear = \", opt[0][0], \"* N +\", opt[0][1])\n",
    "\n"
   ]
  },
  {
   "cell_type": "markdown",
   "metadata": {},
   "source": [
    "## Binary Array Search"
   ]
  },
  {
   "cell_type": "code",
   "execution_count": 3,
   "metadata": {},
   "outputs": [],
   "source": [
    "fn binary_list_search(A: List[Int64], target: Int64) -> Bool:\n",
    "    var low = 0\n",
    "    var high = len(A) - 1\n",
    "    var mid: Int\n",
    "\n",
    "    while low <= high:\n",
    "        mid = (low + high) // 2\n",
    "\n",
    "        if target < A[mid]:\n",
    "            high = mid - 1\n",
    "        elif target > A[mid]:\n",
    "            low = mid + 1\n",
    "        else:\n",
    "            return True\n",
    "\n",
    "    return False\n",
    "\n",
    "\n",
    "fn binary_array_search(A: nm.NDArray[nm.i64], target: Int) raises -> Bool:\n",
    "    var low = 0\n",
    "    var high = len(A) - 1\n",
    "    var mid: Int\n",
    "\n",
    "    while low <= high:\n",
    "        mid = (low + high) // 2\n",
    "\n",
    "        if target < int(A[mid]):\n",
    "            high = mid - 1\n",
    "        elif target > int(A[mid]):\n",
    "            low = mid + 1\n",
    "        else:\n",
    "            return True\n",
    "\n",
    "    return False"
   ]
  },
  {
   "cell_type": "code",
   "execution_count": 4,
   "metadata": {},
   "outputs": [
    {
     "name": "stdout",
     "output_type": "stream",
     "text": [
      "True True\n"
     ]
    }
   ],
   "source": [
    "var list = List[Int64](22, 29, 36, 43, 55, 899, 1000)\n",
    "var array = nm.NDArray[nm.i64](data=list, shape=List[Int](1, 7))\n",
    "\n",
    "var search_list = binary_list_search(list, 55)\n",
    "var search_array = binary_array_search(array, 55)\n",
    "\n",
    "print(search_array, search_list)"
   ]
  },
  {
   "cell_type": "markdown",
   "metadata": {},
   "source": [
    "## Two Birds with One Stone"
   ]
  },
  {
   "cell_type": "code",
   "execution_count": 5,
   "metadata": {},
   "outputs": [],
   "source": [
    "fn binary_array_search(A: nm.NDArray[nm.i64], target: Int) raises -> Int: \n",
    "    var low = 0\n",
    "    var high = len(A) - 1\n",
    "    var mid: Int\n",
    "    var diff: Int\n",
    "\n",
    "    while low <= high:\n",
    "        mid = (low + high) // 2\n",
    "        diff = target - int(A[mid])\n",
    "\n",
    "        if diff < 0:\n",
    "            high = mid - 1\n",
    "        elif diff > 0:\n",
    "            low = mid + 1\n",
    "        else:\n",
    "            return mid\n",
    "    \n",
    "    return -(low + 1)\n",
    "\n"
   ]
  },
  {
   "cell_type": "code",
   "execution_count": 6,
   "metadata": {},
   "outputs": [
    {
     "name": "stdout",
     "output_type": "stream",
     "text": [
      "-8\n"
     ]
    }
   ],
   "source": [
    "var val = binary_array_search(array, 1992)\n",
    "print(val)\n"
   ]
  }
 ],
 "metadata": {
  "kernelspec": {
   "display_name": "Mojo (max)",
   "language": "mojo",
   "name": "mojo-max-jupyter-kernel"
  },
  "language_info": {
   "codemirror_mode": {
    "name": "mojo"
   },
   "file_extension": ".mojo",
   "mimetype": "text/x-mojo",
   "name": "mojo"
  }
 },
 "nbformat": 4,
 "nbformat_minor": 2
}
