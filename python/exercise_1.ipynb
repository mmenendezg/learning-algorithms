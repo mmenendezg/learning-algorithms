{
 "cells": [
  {
   "cell_type": "markdown",
   "metadata": {},
   "source": [
    "# Binary Search"
   ]
  },
  {
   "cell_type": "markdown",
   "metadata": {},
   "source": [
    "## Setup"
   ]
  },
  {
   "cell_type": "code",
   "execution_count": null,
   "metadata": {},
   "outputs": [],
   "source": []
  },
  {
   "cell_type": "code",
   "execution_count": 1,
   "metadata": {},
   "outputs": [],
   "source": [
    "from typing import List"
   ]
  },
  {
   "cell_type": "markdown",
   "metadata": {},
   "source": [
    "Given an array of integers `nums` which is sorted in ascending order, and an integer `target`, write a function to search `target` in `nums`. If `target` exists, then return its index. Otherwise, return -1.\n",
    "\n",
    "You must write an algorithm with $O(log (n))$ runtime complexity.\n"
   ]
  },
  {
   "cell_type": "markdown",
   "metadata": {},
   "source": [
    "Example 1:\n",
    "\n",
    "> Input: nums = [-1,0,3,5,9,12], target = 9\n",
    ">\n",
    "> Output: 4\n",
    ">\n",
    "> Explanation: 9 exists in nums and its index is 4\n",
    "\n",
    "Example 2:\n",
    "\n",
    "> Input: nums = [-1,0,3,5,9,12], target = 2\n",
    ">\n",
    "> Output: -1\n",
    ">\n",
    "> Explanation: 2 does not exist in nums so return -1\n"
   ]
  },
  {
   "cell_type": "markdown",
   "metadata": {},
   "source": [
    "Constraints:\n",
    "\n",
    "- 1 <= `nums.length` <= 104\n",
    "- -104 < `nums[i]`, `target` < 104\n",
    "- All the integers in `nums` are unique.\n",
    "- `nums` is sorted in ascending order.\n"
   ]
  },
  {
   "cell_type": "code",
   "execution_count": 2,
   "metadata": {},
   "outputs": [],
   "source": [
    "tests = []\n",
    "tests.append({\n",
    "    \"input\": {\"nums\": [-1, 0, 3, 5, 9, 12], \"target\": 9},\n",
    "    \"output\": 4,\n",
    "})\n",
    "tests.append({\n",
    "    \"input\": {\"nums\": [-1, 0, 3, 5, 9, 12], \"target\": 2},\n",
    "    \"output\": -1,\n",
    "})\n"
   ]
  },
  {
   "cell_type": "code",
   "execution_count": 5,
   "metadata": {},
   "outputs": [],
   "source": [
    "def search(nums: List[int], target: int) -> int:\n",
    "    nums = nums\n",
    "    target = target\n",
    "    lo = 0\n",
    "    hi = len(nums) - 1\n",
    "    return condition(lo, hi, nums, target)\n",
    "\n",
    "\n",
    "def condition(lo: int, hi: int, nums: List[int], target: int) -> int:\n",
    "    while lo <= hi:\n",
    "        mid = (lo + hi) // 2\n",
    "        if nums[mid] == target:\n",
    "            return mid\n",
    "        elif nums[mid] < target:\n",
    "            lo = mid + 1\n",
    "        else:\n",
    "            hi = mid - 1\n",
    "    return -1"
   ]
  },
  {
   "cell_type": "code",
   "execution_count": 7,
   "metadata": {},
   "outputs": [
    {
     "name": "stdout",
     "output_type": "stream",
     "text": [
      "Passed\n",
      "Passed\n"
     ]
    }
   ],
   "source": [
    "test1 = (\n",
    "    \"Passed\" if search(**tests[0][\"input\"]) == tests[0][\"output\"] else \"Failed\"\n",
    ")\n",
    "test2 = (\n",
    "    \"Passed\" if search(**tests[1][\"input\"]) == tests[1][\"output\"] else \"Failed\"\n",
    ")\n",
    "\n",
    "print(test1)\n",
    "print(test2)\n"
   ]
  },
  {
   "cell_type": "code",
   "execution_count": null,
   "metadata": {},
   "outputs": [],
   "source": []
  }
 ],
 "metadata": {
  "kernelspec": {
   "display_name": "default",
   "language": "python",
   "name": "python3"
  },
  "language_info": {
   "codemirror_mode": {
    "name": "ipython",
    "version": 3
   },
   "file_extension": ".py",
   "mimetype": "text/x-python",
   "name": "python",
   "nbconvert_exporter": "python",
   "pygments_lexer": "ipython3",
   "version": "3.12.7"
  }
 },
 "nbformat": 4,
 "nbformat_minor": 2
}
